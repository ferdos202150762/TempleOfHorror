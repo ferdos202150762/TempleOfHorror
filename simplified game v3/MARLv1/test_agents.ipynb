{
 "cells": [
  {
   "cell_type": "code",
   "execution_count": 1,
   "id": "d31d8d74",
   "metadata": {},
   "outputs": [
    {
     "name": "stdout",
     "output_type": "stream",
     "text": [
      "Using device: cpu\n"
     ]
    }
   ],
   "source": [
    "\n",
    "from PPO_attacker import PPO_RNN_Agent"
   ]
  },
  {
   "cell_type": "code",
   "execution_count": null,
   "id": "d35b4c78",
   "metadata": {},
   "outputs": [],
   "source": [
    "model = torch.load(\"attacker_agent_final.pth\")\n"
   ]
  },
  {
   "cell_type": "code",
   "execution_count": 10,
   "id": "d775e75e",
   "metadata": {},
   "outputs": [
    {
     "data": {
      "text/plain": [
       "ActorCriticRNN(\n",
       "  (lstm): LSTM(25, 64, batch_first=True)\n",
       "  (shared_fc): Linear(in_features=64, out_features=32, bias=True)\n",
       "  (actor_head_large): Linear(in_features=32, out_features=6, bias=True)\n",
       "  (actor_head_small): Linear(in_features=32, out_features=2, bias=True)\n",
       "  (critic_head): Linear(in_features=32, out_features=1, bias=True)\n",
       ")"
      ]
     },
     "execution_count": 10,
     "metadata": {},
     "output_type": "execute_result"
    }
   ],
   "source": [
    "model.eval()"
   ]
  },
  {
   "cell_type": "code",
   "execution_count": 12,
   "id": "38c4027d",
   "metadata": {},
   "outputs": [],
   "source": [
    "\n",
    "from config import *\n",
    "\n",
    "obs_dim = 25\n",
    "\n",
    "# ... agent initialization ...\n",
    "agent_attacker = PPO_RNN_Agent(\n",
    "    obs_dim=obs_dim, action_dim_large=ACTION_DIM_LARGE, action_dim_small=ACTION_DIM_SMALL,\n",
    "    hidden_size=HIDDEN_SIZE, lr=LR, gamma=GAMMA, gae_lambda=GAE_LAMBDA,\n",
    "    ppo_clip_eps=PPO_CLIP_EPS, ppo_epochs=PPO_EPOCHS, minibatch_size=MINIBATCH_SIZE,\n",
    "    sequence_length=SEQUENCE_LENGTH, entropy_coef=ENTROPY_COEF, value_coef=VALUE_COEF,\n",
    "    max_grad_norm=MAX_GRAD_NORM, rollout_steps=ROLLOUT_STEPS\n",
    ")\n",
    "\n",
    "agent_defender = PPO_RNN_Agent(\n",
    "    obs_dim=obs_dim, action_dim_large=ACTION_DIM_LARGE, action_dim_small=ACTION_DIM_SMALL,\n",
    "    hidden_size=HIDDEN_SIZE, lr=LR, gamma=GAMMA, gae_lambda=GAE_LAMBDA,\n",
    "    ppo_clip_eps=PPO_CLIP_EPS, ppo_epochs=PPO_EPOCHS, minibatch_size=MINIBATCH_SIZE,\n",
    "    sequence_length=SEQUENCE_LENGTH, entropy_coef=ENTROPY_COEF, value_coef=VALUE_COEF,\n",
    "    max_grad_norm=MAX_GRAD_NORM, rollout_steps=ROLLOUT_STEPS)\n",
    "\n",
    "# Option to load pre-trained models\n",
    "LOAD_PRETRAINED = True # Set to False to train from scratch\n",
    "if LOAD_PRETRAINED:\n",
    "    agent_attacker = torch.load(\"attacker_agent_final.pth\").eval() # or a specific checkpoint\n",
    "    agent_defender = torch.load(\"defender_agent_final.pth\").eval()\n",
    "\n",
    "agents = {\n",
    "    \"attacker\": agent_attacker,\n",
    "    \"defender\": agent_defender\n",
    "}"
   ]
  },
  {
   "cell_type": "code",
   "execution_count": 13,
   "id": "c3483940",
   "metadata": {},
   "outputs": [
    {
     "data": {
      "text/plain": [
       "ActorCriticRNN(\n",
       "  (lstm): LSTM(25, 64, batch_first=True)\n",
       "  (shared_fc): Linear(in_features=64, out_features=32, bias=True)\n",
       "  (actor_head_large): Linear(in_features=32, out_features=6, bias=True)\n",
       "  (actor_head_small): Linear(in_features=32, out_features=2, bias=True)\n",
       "  (critic_head): Linear(in_features=32, out_features=1, bias=True)\n",
       ")"
      ]
     },
     "execution_count": 13,
     "metadata": {},
     "output_type": "execute_result"
    }
   ],
   "source": [
    "agents[\"attacker\"]"
   ]
  }
 ],
 "metadata": {
  "kernelspec": {
   "display_name": "torchrl",
   "language": "python",
   "name": "python3"
  },
  "language_info": {
   "codemirror_mode": {
    "name": "ipython",
    "version": 3
   },
   "file_extension": ".py",
   "mimetype": "text/x-python",
   "name": "python",
   "nbconvert_exporter": "python",
   "pygments_lexer": "ipython3",
   "version": "3.10.15"
  }
 },
 "nbformat": 4,
 "nbformat_minor": 5
}
