{
 "cells": [
  {
   "cell_type": "code",
   "execution_count": 2,
   "id": "d31d8d74",
   "metadata": {},
   "outputs": [],
   "source": [
    "from PPO_attacker import ActorCriticRNN"
   ]
  },
  {
   "cell_type": "code",
   "execution_count": 3,
   "id": "38c4027d",
   "metadata": {},
   "outputs": [
    {
     "data": {
      "text/plain": [
       "ActorCriticRNN(\n",
       "    # attributes\n",
       "    action_dim = 10\n",
       "    config = 1\n",
       ")"
      ]
     },
     "execution_count": 3,
     "metadata": {},
     "output_type": "execute_result"
    }
   ],
   "source": [
    "ActorCriticRNN(10,1)"
   ]
  }
 ],
 "metadata": {
  "kernelspec": {
   "display_name": "jaxMARL",
   "language": "python",
   "name": "python3"
  },
  "language_info": {
   "codemirror_mode": {
    "name": "ipython",
    "version": 3
   },
   "file_extension": ".py",
   "mimetype": "text/x-python",
   "name": "python",
   "nbconvert_exporter": "python",
   "pygments_lexer": "ipython3",
   "version": "3.10.17"
  }
 },
 "nbformat": 4,
 "nbformat_minor": 5
}
