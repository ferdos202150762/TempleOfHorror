{
 "cells": [
  {
   "cell_type": "code",
   "execution_count": 1,
   "metadata": {},
   "outputs": [],
   "source": [
    "from TempleOfHorror import TempleOfHorror"
   ]
  },
  {
   "cell_type": "code",
   "execution_count": 2,
   "metadata": {},
   "outputs": [],
   "source": [
    "env = TempleOfHorror()"
   ]
  },
  {
   "cell_type": "code",
   "execution_count": 3,
   "metadata": {},
   "outputs": [],
   "source": [
    "state = env.reset()\n"
   ]
  },
  {
   "cell_type": "code",
   "execution_count": 4,
   "metadata": {},
   "outputs": [],
   "source": [
    "h = []"
   ]
  },
  {
   "cell_type": "code",
   "execution_count": 5,
   "metadata": {},
   "outputs": [
    {
     "data": {
      "text/plain": [
       "{'agent_0': 'attacker_2',\n",
       " 'agent_1': 'attacker_1',\n",
       " 'agent_2': 'attacker_3',\n",
       " 'agent_3': 'defender_1'}"
      ]
     },
     "execution_count": 5,
     "metadata": {},
     "output_type": "execute_result"
    }
   ],
   "source": [
    "env.player_role"
   ]
  },
  {
   "cell_type": "code",
   "execution_count": 6,
   "metadata": {},
   "outputs": [],
   "source": [
    "h  = h + env.deck_roles"
   ]
  },
  {
   "cell_type": "markdown",
   "metadata": {},
   "source": [
    "env.deck_roles"
   ]
  },
  {
   "cell_type": "code",
   "execution_count": 7,
   "metadata": {},
   "outputs": [
    {
     "data": {
      "text/plain": [
       "{'agent_0': [1, 2, 3],\n",
       " 'agent_1': [0, 2, 3],\n",
       " 'agent_2': [0, 1, 3],\n",
       " 'agent_3': [0, 1, 2]}"
      ]
     },
     "execution_count": 7,
     "metadata": {},
     "output_type": "execute_result"
    }
   ],
   "source": [
    "env.action_spaces"
   ]
  },
  {
   "cell_type": "code",
   "execution_count": 8,
   "metadata": {},
   "outputs": [
    {
     "data": {
      "text/plain": [
       "False"
      ]
     },
     "execution_count": 8,
     "metadata": {},
     "output_type": "execute_result"
    }
   ],
   "source": [
    "2 not in env.enc_player_hands[f\"agent_0\"]"
   ]
  },
  {
   "cell_type": "code",
   "execution_count": 9,
   "metadata": {},
   "outputs": [
    {
     "data": {
      "text/plain": [
       "{'table_information': {'agent_0': [0, 0, 0],\n",
       "  'agent_1': [0, 0, 0],\n",
       "  'agent_2': [0, 0, 0],\n",
       "  'agent_3': [0, 0, 0]},\n",
       " 'public_message': [1, 2, -1, -1, -1, -1, -1, -1],\n",
       " 'score': {'gold': 0, 'fire': 0, 'empty': 0}}"
      ]
     },
     "execution_count": 9,
     "metadata": {},
     "output_type": "execute_result"
    }
   ],
   "source": [
    "env.step_message([1,2,3])"
   ]
  },
  {
   "cell_type": "code",
   "execution_count": 10,
   "metadata": {},
   "outputs": [
    {
     "data": {
      "text/plain": [
       "{'agent_0': [1, 2, 3],\n",
       " 'agent_1': [0, 2, 3],\n",
       " 'agent_2': [0, 1, 3],\n",
       " 'agent_3': [0, 1, 2]}"
      ]
     },
     "execution_count": 10,
     "metadata": {},
     "output_type": "execute_result"
    }
   ],
   "source": [
    "env.action_spaces"
   ]
  },
  {
   "cell_type": "code",
   "execution_count": 11,
   "metadata": {},
   "outputs": [
    {
     "data": {
      "text/plain": [
       "8"
      ]
     },
     "execution_count": 11,
     "metadata": {},
     "output_type": "execute_result"
    }
   ],
   "source": [
    "len(env.message_space)"
   ]
  },
  {
   "cell_type": "code",
   "execution_count": 12,
   "metadata": {},
   "outputs": [
    {
     "data": {
      "text/plain": [
       "torch.Size([25])"
      ]
     },
     "execution_count": 12,
     "metadata": {},
     "output_type": "execute_result"
    }
   ],
   "source": [
    "env.create_observation(\"1\", state).shape"
   ]
  },
  {
   "cell_type": "code",
   "execution_count": 13,
   "metadata": {},
   "outputs": [
    {
     "data": {
      "text/plain": [
       "{'agent_0': [1, 2, 3],\n",
       " 'agent_1': [0, 2, 3],\n",
       " 'agent_2': [0, 1, 3],\n",
       " 'agent_3': [0, 1, 2]}"
      ]
     },
     "execution_count": 13,
     "metadata": {},
     "output_type": "execute_result"
    }
   ],
   "source": [
    "env.action_spaces"
   ]
  },
  {
   "cell_type": "code",
   "execution_count": 14,
   "metadata": {},
   "outputs": [
    {
     "data": {
      "text/plain": [
       "{'agent_0': 0, 'agent_1': 0, 'agent_2': 0, 'agent_3': 1}"
      ]
     },
     "execution_count": 14,
     "metadata": {},
     "output_type": "execute_result"
    }
   ],
   "source": [
    "env.enc_player_role"
   ]
  },
  {
   "cell_type": "code",
   "execution_count": 15,
   "metadata": {},
   "outputs": [
    {
     "data": {
      "text/plain": [
       "['gold_1',\n",
       " 'gold_2',\n",
       " 'gold_3',\n",
       " 'gold_4',\n",
       " 'empty_1',\n",
       " 'empty_2',\n",
       " 'empty_3',\n",
       " 'empty_4',\n",
       " 'empty_5',\n",
       " 'empty_6',\n",
       " 'empty_7',\n",
       " 'empty_8',\n",
       " 'empty_9',\n",
       " 'empty_10',\n",
       " 'fire_1',\n",
       " 'fire_2']"
      ]
     },
     "execution_count": 15,
     "metadata": {},
     "output_type": "execute_result"
    }
   ],
   "source": [
    "env.deck_cards"
   ]
  },
  {
   "cell_type": "code",
   "execution_count": 16,
   "metadata": {},
   "outputs": [
    {
     "data": {
      "text/plain": [
       "0"
      ]
     },
     "execution_count": 16,
     "metadata": {},
     "output_type": "execute_result"
    }
   ],
   "source": [
    "env.turns"
   ]
  },
  {
   "cell_type": "code",
   "execution_count": 17,
   "metadata": {},
   "outputs": [
    {
     "data": {
      "text/plain": [
       "{'agent_0': 'attacker_2',\n",
       " 'agent_1': 'attacker_1',\n",
       " 'agent_2': 'attacker_3',\n",
       " 'agent_3': 'defender_1'}"
      ]
     },
     "execution_count": 17,
     "metadata": {},
     "output_type": "execute_result"
    }
   ],
   "source": [
    "env.player_role"
   ]
  },
  {
   "cell_type": "code",
   "execution_count": 18,
   "metadata": {},
   "outputs": [
    {
     "data": {
      "text/plain": [
       "{'agent_0': ['empty_9', 'fire_2', 'gold_3', 'gold_1'],\n",
       " 'agent_1': ['fire_1', 'empty_7', 'empty_3', 'gold_4'],\n",
       " 'agent_2': ['empty_6', 'empty_1', 'empty_8', 'empty_5'],\n",
       " 'agent_3': ['empty_2', 'empty_4', 'gold_2', 'empty_10']}"
      ]
     },
     "execution_count": 18,
     "metadata": {},
     "output_type": "execute_result"
    }
   ],
   "source": [
    "env.player_hands"
   ]
  },
  {
   "cell_type": "code",
   "execution_count": 19,
   "metadata": {},
   "outputs": [
    {
     "data": {
      "text/plain": [
       "['gold_1',\n",
       " 'gold_2',\n",
       " 'gold_3',\n",
       " 'gold_4',\n",
       " 'empty_1',\n",
       " 'empty_2',\n",
       " 'empty_3',\n",
       " 'empty_4',\n",
       " 'empty_5',\n",
       " 'empty_6',\n",
       " 'empty_7',\n",
       " 'empty_8',\n",
       " 'empty_9',\n",
       " 'empty_10',\n",
       " 'fire_1',\n",
       " 'fire_2']"
      ]
     },
     "execution_count": 19,
     "metadata": {},
     "output_type": "execute_result"
    }
   ],
   "source": [
    "env.deck_cards"
   ]
  },
  {
   "cell_type": "code",
   "execution_count": 26,
   "metadata": {},
   "outputs": [
    {
     "name": "stdout",
     "output_type": "stream",
     "text": [
      "gold_1\n"
     ]
    },
    {
     "data": {
      "text/plain": [
       "(False,\n",
       " {'table_information': {'agent_0': [0, 0, 0],\n",
       "   'agent_1': [1, 0, 1],\n",
       "   'agent_2': [0, 0, 0],\n",
       "   'agent_3': [0, 0, 0]},\n",
       "  'public_message': [-1, -1, -1, -1, -1, -1, -1, -1],\n",
       "  'score': {'gold': 1, 'fire': 0, 'empty': 5}},\n",
       " [1, 1, 1, -1],\n",
       " 'gold',\n",
       " None)"
      ]
     },
     "execution_count": 26,
     "metadata": {},
     "output_type": "execute_result"
    }
   ],
   "source": [
    "env.step(1)"
   ]
  },
  {
   "cell_type": "code",
   "execution_count": 21,
   "metadata": {},
   "outputs": [
    {
     "data": {
      "text/plain": [
       "{'agent_0': 'attacker_2',\n",
       " 'agent_1': 'attacker_1',\n",
       " 'agent_2': 'attacker_3',\n",
       " 'agent_3': 'defender_1'}"
      ]
     },
     "execution_count": 21,
     "metadata": {},
     "output_type": "execute_result"
    }
   ],
   "source": [
    "env.player_role"
   ]
  },
  {
   "cell_type": "code",
   "execution_count": 39,
   "metadata": {},
   "outputs": [
    {
     "data": {
      "text/plain": [
       "-1"
      ]
     },
     "execution_count": 39,
     "metadata": {},
     "output_type": "execute_result"
    }
   ],
   "source": [
    "env.reward('agent_1', 1)"
   ]
  },
  {
   "cell_type": "code",
   "execution_count": 40,
   "metadata": {},
   "outputs": [
    {
     "ename": "AttributeError",
     "evalue": "'TempleOfHorror' object has no attribute 'number_plays'",
     "output_type": "error",
     "traceback": [
      "\u001b[0;31m---------------------------------------------------------------------------\u001b[0m",
      "\u001b[0;31mAttributeError\u001b[0m                            Traceback (most recent call last)",
      "Cell \u001b[0;32mIn[40], line 1\u001b[0m\n\u001b[0;32m----> 1\u001b[0m \u001b[43menv\u001b[49m\u001b[38;5;241;43m.\u001b[39;49m\u001b[43mnumber_plays\u001b[49m\n",
      "\u001b[0;31mAttributeError\u001b[0m: 'TempleOfHorror' object has no attribute 'number_plays'"
     ]
    }
   ],
   "source": [
    "env.number_plays"
   ]
  },
  {
   "cell_type": "code",
   "execution_count": null,
   "metadata": {},
   "outputs": [],
   "source": [
    "env.action_spaces"
   ]
  },
  {
   "cell_type": "code",
   "execution_count": null,
   "metadata": {},
   "outputs": [],
   "source": [
    "env.player_hands"
   ]
  },
  {
   "cell_type": "code",
   "execution_count": null,
   "metadata": {},
   "outputs": [],
   "source": [
    "env.observation_spaces"
   ]
  },
  {
   "cell_type": "code",
   "execution_count": null,
   "metadata": {},
   "outputs": [],
   "source": [
    "env.turns"
   ]
  },
  {
   "cell_type": "code",
   "execution_count": null,
   "metadata": {},
   "outputs": [],
   "source": [
    "env.score"
   ]
  },
  {
   "cell_type": "code",
   "execution_count": null,
   "metadata": {},
   "outputs": [],
   "source": [
    "env.deck_cards"
   ]
  }
 ],
 "metadata": {
  "kernelspec": {
   "display_name": "torchrl",
   "language": "python",
   "name": "python3"
  },
  "language_info": {
   "codemirror_mode": {
    "name": "ipython",
    "version": 3
   },
   "file_extension": ".py",
   "mimetype": "text/x-python",
   "name": "python",
   "nbconvert_exporter": "python",
   "pygments_lexer": "ipython3",
   "version": "3.10.15"
  }
 },
 "nbformat": 4,
 "nbformat_minor": 2
}
