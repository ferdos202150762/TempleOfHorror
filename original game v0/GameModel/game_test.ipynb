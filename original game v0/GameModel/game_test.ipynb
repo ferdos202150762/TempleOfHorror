{
 "cells": [
  {
   "cell_type": "code",
   "execution_count": 1,
   "metadata": {},
   "outputs": [],
   "source": [
    "from TempleOfHorror import TempleOfHorror"
   ]
  },
  {
   "cell_type": "code",
   "execution_count": 2,
   "metadata": {},
   "outputs": [],
   "source": [
    "env = TempleOfHorror(3)"
   ]
  },
  {
   "cell_type": "code",
   "execution_count": 3,
   "metadata": {},
   "outputs": [],
   "source": [
    "obs = env.reset()"
   ]
  },
  {
   "cell_type": "code",
   "execution_count": 4,
   "metadata": {},
   "outputs": [
    {
     "name": "stdout",
     "output_type": "stream",
     "text": [
      "{'private_information': {'agent_0': [0, 0, 0], 'agent_1': [0, 0, 0], 'agent_2': [0, 0, 0]}, 'public_message': [5, 0, 0, 3, 1, 1, 3, 1, 1], 'private_role': {'agent_0': 0, 'agent_1': 1, 'agent_2': 0}, 'turn': 0, 'score': {'gold': 0, 'fire': 0, 'empty': 0}}\n",
      "[5, 0, 0, 3, 1, 1, 3, 1, 1, 0, 0, 0, 0, 0, 0, 0, 0, 0, 0, 0, 0, 0, 0]\n"
     ]
    },
    {
     "data": {
      "text/plain": [
       "tensor([5., 0., 0., 3., 1., 1., 3., 1., 1., 0., 0., 0., 0., 0., 0., 0., 0., 0.,\n",
       "        0., 0., 0., 0., 0.])"
      ]
     },
     "execution_count": 4,
     "metadata": {},
     "output_type": "execute_result"
    }
   ],
   "source": [
    "env.create_state(\"0\", obs)"
   ]
  },
  {
   "cell_type": "code",
   "execution_count": 22,
   "metadata": {},
   "outputs": [
    {
     "data": {
      "text/plain": [
       "{'agent_0': ['gold_5', 'empty_1', 'empty_3'],\n",
       " 'agent_1': ['gold_4', 'fire_2', 'gold_3'],\n",
       " 'agent_2': ['empty_8', 'fire_1', 'empty_6']}"
      ]
     },
     "execution_count": 22,
     "metadata": {},
     "output_type": "execute_result"
    }
   ],
   "source": [
    "env.player_hands"
   ]
  },
  {
   "cell_type": "code",
   "execution_count": 26,
   "metadata": {},
   "outputs": [
    {
     "data": {
      "text/plain": [
       "['gold_3', 'gold_4', 'empty_6', 'empty_8', 'fire_1', 'fire_2']"
      ]
     },
     "execution_count": 26,
     "metadata": {},
     "output_type": "execute_result"
    }
   ],
   "source": [
    "env.deck_cards"
   ]
  },
  {
   "cell_type": "code",
   "execution_count": 25,
   "metadata": {},
   "outputs": [
    {
     "name": "stdout",
     "output_type": "stream",
     "text": [
      "gold_5\n",
      "Hunter won\n",
      "{'agent_0': [0, 0, 0], 'agent_1': [0, 0, 0], 'agent_2': [0, 0, 0]}\n",
      "Winner\n"
     ]
    },
    {
     "data": {
      "text/plain": [
       "(True,\n",
       " {'private_information': {'agent_0': [1, 0, 2],\n",
       "   'agent_1': [0, 0, 0],\n",
       "   'agent_2': [0, 0, 0]},\n",
       "  'public_message': [1, 1, 1, 0, 1, 2, 2, 1, 0],\n",
       "  'private_role': {'agent_0': 0, 'agent_1': 1, 'agent_2': 0},\n",
       "  'turn': 2,\n",
       "  'score': {'gold': 3, 'fire': 0, 'empty': 6}},\n",
       " [-100, 100, -100])"
      ]
     },
     "execution_count": 25,
     "metadata": {},
     "output_type": "execute_result"
    }
   ],
   "source": [
    "env.step(0)"
   ]
  },
  {
   "cell_type": "code",
   "execution_count": 8,
   "metadata": {},
   "outputs": [
    {
     "data": {
      "text/plain": [
       "100"
      ]
     },
     "execution_count": 8,
     "metadata": {},
     "output_type": "execute_result"
    }
   ],
   "source": [
    "env.reward('agent_1', 1)"
   ]
  },
  {
   "cell_type": "code",
   "execution_count": 9,
   "metadata": {},
   "outputs": [
    {
     "data": {
      "text/plain": [
       "1"
      ]
     },
     "execution_count": 9,
     "metadata": {},
     "output_type": "execute_result"
    }
   ],
   "source": [
    "env.number_plays"
   ]
  },
  {
   "cell_type": "code",
   "execution_count": 10,
   "metadata": {},
   "outputs": [
    {
     "data": {
      "text/plain": [
       "{'agent_0': [1, 2], 'agent_1': [0, 2], 'agent_2': [0, 1]}"
      ]
     },
     "execution_count": 10,
     "metadata": {},
     "output_type": "execute_result"
    }
   ],
   "source": [
    "env.action_spaces"
   ]
  },
  {
   "cell_type": "code",
   "execution_count": 11,
   "metadata": {},
   "outputs": [
    {
     "data": {
      "text/plain": [
       "{'agent_0': ['empty_2', 'empty_7', 'empty_4', 'empty_6'],\n",
       " 'agent_1': ['gold_5', 'fire_2', 'fire_1', 'gold_3', 'empty_8'],\n",
       " 'agent_2': ['empty_3', 'empty_1', 'gold_4', 'gold_1', 'gold_2']}"
      ]
     },
     "execution_count": 11,
     "metadata": {},
     "output_type": "execute_result"
    }
   ],
   "source": [
    "env.player_hands"
   ]
  },
  {
   "cell_type": "code",
   "execution_count": 12,
   "metadata": {},
   "outputs": [
    {
     "data": {
      "text/plain": [
       "{'agent_0': [0, 0, 1], 'agent_1': [0, 0, 0], 'agent_2': [0, 0, 0]}"
      ]
     },
     "execution_count": 12,
     "metadata": {},
     "output_type": "execute_result"
    }
   ],
   "source": [
    "env.observation_spaces"
   ]
  },
  {
   "cell_type": "code",
   "execution_count": 13,
   "metadata": {},
   "outputs": [
    {
     "data": {
      "text/plain": [
       "0"
      ]
     },
     "execution_count": 13,
     "metadata": {},
     "output_type": "execute_result"
    }
   ],
   "source": [
    "env.turns"
   ]
  },
  {
   "cell_type": "code",
   "execution_count": 14,
   "metadata": {},
   "outputs": [
    {
     "data": {
      "text/plain": [
       "{'gold': 0, 'fire': 0, 'empty': 1}"
      ]
     },
     "execution_count": 14,
     "metadata": {},
     "output_type": "execute_result"
    }
   ],
   "source": [
    "env.score"
   ]
  },
  {
   "cell_type": "code",
   "execution_count": 15,
   "metadata": {},
   "outputs": [
    {
     "data": {
      "text/plain": [
       "['gold_1',\n",
       " 'gold_2',\n",
       " 'gold_3',\n",
       " 'gold_4',\n",
       " 'gold_5',\n",
       " 'empty_1',\n",
       " 'empty_2',\n",
       " 'empty_3',\n",
       " 'empty_4',\n",
       " 'empty_6',\n",
       " 'empty_7',\n",
       " 'empty_8',\n",
       " 'fire_1',\n",
       " 'fire_2']"
      ]
     },
     "execution_count": 15,
     "metadata": {},
     "output_type": "execute_result"
    }
   ],
   "source": [
    "env.deck_cards"
   ]
  }
 ],
 "metadata": {
  "kernelspec": {
   "display_name": "torchrl",
   "language": "python",
   "name": "python3"
  },
  "language_info": {
   "codemirror_mode": {
    "name": "ipython",
    "version": 3
   },
   "file_extension": ".py",
   "mimetype": "text/x-python",
   "name": "python",
   "nbconvert_exporter": "python",
   "pygments_lexer": "ipython3",
   "version": "3.10.15"
  }
 },
 "nbformat": 4,
 "nbformat_minor": 2
}
